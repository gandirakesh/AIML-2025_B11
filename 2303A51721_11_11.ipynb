{
  "nbformat": 4,
  "nbformat_minor": 0,
  "metadata": {
    "colab": {
      "provenance": [],
      "authorship_tag": "ABX9TyNZqrfUzRHGPPKw+nyrbtKa",
      "include_colab_link": true
    },
    "kernelspec": {
      "name": "python3",
      "display_name": "Python 3"
    },
    "language_info": {
      "name": "python"
    }
  },
  "cells": [
    {
      "cell_type": "markdown",
      "metadata": {
        "id": "view-in-github",
        "colab_type": "text"
      },
      "source": [
        "<a href=\"https://colab.research.google.com/github/gandirakesh/AIML-2025_B11/blob/main/2303A51721_11_11.ipynb\" target=\"_parent\"><img src=\"https://colab.research.google.com/assets/colab-badge.svg\" alt=\"Open In Colab\"/></a>"
      ]
    },
    {
      "cell_type": "markdown",
      "source": [
        "Prediction of obesity levels based on eating habits\n",
        "1. Identify the top 5 reasons for obesity levels\n",
        "2. Identify the age group with most obesity\n",
        "3. Find the max and min weight of patient with obesity\n",
        "4. Name the top 5 eating habits contributing to obesity\n",
        "5. Identify the highest usage of tech gadgets among obese patients.\n",
        "6. Apply either Classification Model or Clustering Model to evaluate the dataset"
      ],
      "metadata": {
        "id": "wQZM8sr45Fck"
      }
    },
    {
      "cell_type": "code",
      "source": [
        "import pandas as pd\n",
        "import numpy as np\n",
        "import seaborn as sns\n",
        "import matplotlib.pyplot as plt\n",
        "from sklearn.model_selection import train_test_split\n",
        "from sklearn.ensemble import RandomForestClassifier\n",
        "from sklearn.metrics import classification_report, accuracy_score\n"
      ],
      "metadata": {
        "id": "eCVPmnlZ9Fjz"
      },
      "execution_count": 23,
      "outputs": []
    },
    {
      "cell_type": "code",
      "source": [
        "file_path = 'ObesityDataSet.csv'\n",
        "data = pd.read_csv(file_path)"
      ],
      "metadata": {
        "id": "6df2VfId93S_"
      },
      "execution_count": 26,
      "outputs": []
    },
    {
      "cell_type": "code",
      "source": [
        "# Display dataset info\n",
        "print(\"Dataset Overview:\\n\")\n",
        "print(data.info())\n",
        "print(\"\\nFirst 5 rows of the dataset:\\n\")\n",
        "print(data.head())"
      ],
      "metadata": {
        "colab": {
          "base_uri": "https://localhost:8080/"
        },
        "id": "QXbjNvdY-ANg",
        "outputId": "29aca594-2f69-40e1-a3d5-7661abbdc81b"
      },
      "execution_count": 25,
      "outputs": [
        {
          "output_type": "stream",
          "name": "stdout",
          "text": [
            "Dataset Overview:\n",
            "\n",
            "<class 'pandas.core.frame.DataFrame'>\n",
            "RangeIndex: 2111 entries, 0 to 2110\n",
            "Data columns (total 17 columns):\n",
            " #   Column                          Non-Null Count  Dtype  \n",
            "---  ------                          --------------  -----  \n",
            " 0   Gender                          2111 non-null   object \n",
            " 1   Age                             2111 non-null   float64\n",
            " 2   Height                          2111 non-null   float64\n",
            " 3   Weight                          2111 non-null   float64\n",
            " 4   family_history_with_overweight  2111 non-null   object \n",
            " 5   FAVC                            2111 non-null   object \n",
            " 6   FCVC                            2111 non-null   float64\n",
            " 7   NCP                             2111 non-null   float64\n",
            " 8   CAEC                            2111 non-null   object \n",
            " 9   SMOKE                           2111 non-null   object \n",
            " 10  CH2O                            2111 non-null   float64\n",
            " 11  SCC                             2111 non-null   object \n",
            " 12  FAF                             2111 non-null   float64\n",
            " 13  TUE                             2111 non-null   float64\n",
            " 14  CALC                            2111 non-null   object \n",
            " 15  MTRANS                          2111 non-null   object \n",
            " 16  NObeyesdad                      2111 non-null   object \n",
            "dtypes: float64(8), object(9)\n",
            "memory usage: 280.5+ KB\n",
            "None\n",
            "\n",
            "First 5 rows of the dataset:\n",
            "\n",
            "   Gender   Age  Height  Weight family_history_with_overweight FAVC  FCVC  \\\n",
            "0  Female  21.0    1.62    64.0                            yes   no   2.0   \n",
            "1  Female  21.0    1.52    56.0                            yes   no   3.0   \n",
            "2    Male  23.0    1.80    77.0                            yes   no   2.0   \n",
            "3    Male  27.0    1.80    87.0                             no   no   3.0   \n",
            "4    Male  22.0    1.78    89.8                             no   no   2.0   \n",
            "\n",
            "   NCP       CAEC SMOKE  CH2O  SCC  FAF  TUE        CALC  \\\n",
            "0  3.0  Sometimes    no   2.0   no  0.0  1.0          no   \n",
            "1  3.0  Sometimes   yes   3.0  yes  3.0  0.0   Sometimes   \n",
            "2  3.0  Sometimes    no   2.0   no  2.0  1.0  Frequently   \n",
            "3  3.0  Sometimes    no   2.0   no  2.0  0.0  Frequently   \n",
            "4  1.0  Sometimes    no   2.0   no  0.0  0.0   Sometimes   \n",
            "\n",
            "                  MTRANS           NObeyesdad  \n",
            "0  Public_Transportation        Normal_Weight  \n",
            "1  Public_Transportation        Normal_Weight  \n",
            "2  Public_Transportation        Normal_Weight  \n",
            "3                Walking   Overweight_Level_I  \n",
            "4  Public_Transportation  Overweight_Level_II  \n"
          ]
        }
      ]
    },
    {
      "cell_type": "code",
      "source": [
        "# 1. Top 5 Reasons for Obesity Levels (Feature Importance)\n",
        "X = data.drop(columns=['NObeyesdad'])\n",
        "y = data['NObeyesdad']\n",
        "\n",
        "X = pd.get_dummies(X, drop_first=True)\n",
        "\n",
        "X_train, X_test, y_train, y_test = train_test_split(X, y, test_size=0.3, random_state=42)\n",
        "clf = RandomForestClassifier(random_state=42)\n",
        "clf.fit(X_train, y_train)\n",
        "\n",
        "feature_importances = pd.DataFrame({'Feature': X.columns, 'Importance': clf.feature_importances_})\n",
        "top_features = feature_importances.sort_values(by='Importance', ascending=False).head(5)\n",
        "print(\"\\nTop 5 Reasons for Obesity Levels:\\n\", top_features)"
      ],
      "metadata": {
        "colab": {
          "base_uri": "https://localhost:8080/"
        },
        "id": "0BP_9jR4-Mv2",
        "outputId": "55973aa2-81a3-42b8-b716-49658f3e9705"
      },
      "execution_count": 29,
      "outputs": [
        {
          "output_type": "stream",
          "name": "stdout",
          "text": [
            "\n",
            "Top 5 Reasons for Obesity Levels:\n",
            "        Feature  Importance\n",
            "2       Weight    0.290146\n",
            "0          Age    0.106887\n",
            "1       Height    0.090433\n",
            "3         FCVC    0.086890\n",
            "8  Gender_Male    0.055873\n"
          ]
        }
      ]
    },
    {
      "cell_type": "code",
      "source": [
        "# 2. Identify the age group with most obesity\n",
        "data['AgeRange'] = pd.cut(data['Age'], bins=[0, 18, 30, 50, 100], labels=['Children', 'Young Adults', 'Adults', 'Seniors'])\n",
        "obesity_by_age = data.groupby('AgeRange')['NObeyesdad'].value_counts().unstack()\n",
        "print(\"\\nObesity Levels by Age Group:\\n\", obesity_by_age)"
      ],
      "metadata": {
        "colab": {
          "base_uri": "https://localhost:8080/"
        },
        "id": "fWDOrP54-c7E",
        "outputId": "545ce0e8-6fef-4a98-b75d-b9d56d5c94a7"
      },
      "execution_count": 30,
      "outputs": [
        {
          "output_type": "stream",
          "name": "stdout",
          "text": [
            "\n",
            "Obesity Levels by Age Group:\n",
            " NObeyesdad    Insufficient_Weight  Normal_Weight  Obesity_Type_I  \\\n",
            "AgeRange                                                           \n",
            "Children                       80             68              39   \n",
            "Young Adults                  189            201             226   \n",
            "Adults                          3             16              85   \n",
            "Seniors                         0              2               1   \n",
            "\n",
            "NObeyesdad    Obesity_Type_II  Obesity_Type_III  Overweight_Level_I  \\\n",
            "AgeRange                                                              \n",
            "Children                    0                 1                  31   \n",
            "Young Adults              187               323                 216   \n",
            "Adults                    110                 0                  42   \n",
            "Seniors                     0                 0                   1   \n",
            "\n",
            "NObeyesdad    Overweight_Level_II  \n",
            "AgeRange                           \n",
            "Children                       22  \n",
            "Young Adults                  172  \n",
            "Adults                         90  \n",
            "Seniors                         6  \n"
          ]
        },
        {
          "output_type": "stream",
          "name": "stderr",
          "text": [
            "<ipython-input-30-ed0361ed27cc>:3: FutureWarning: The default of observed=False is deprecated and will be changed to True in a future version of pandas. Pass observed=False to retain current behavior or observed=True to adopt the future default and silence this warning.\n",
            "  obesity_by_age = data.groupby('AgeRange')['NObeyesdad'].value_counts().unstack()\n"
          ]
        }
      ]
    },
    {
      "cell_type": "code",
      "source": [
        "# 3. Find the max and min weight of patients with obesity\n",
        "max_weight = data['Weight'].max()\n",
        "min_weight = data['Weight'].min()\n",
        "print(f\"\\nMaximum Weight of Patients with Obesity: {max_weight}\")\n",
        "print(f\"Minimum Weight of Patients with Obesity: {min_weight}\")"
      ],
      "metadata": {
        "colab": {
          "base_uri": "https://localhost:8080/"
        },
        "id": "Gb7nYAM__K23",
        "outputId": "628eff01-75d7-4919-ccc8-9fbbb553d9b9"
      },
      "execution_count": 31,
      "outputs": [
        {
          "output_type": "stream",
          "name": "stdout",
          "text": [
            "\n",
            "Maximum Weight of Patients with Obesity: 173.0\n",
            "Minimum Weight of Patients with Obesity: 39.0\n"
          ]
        }
      ]
    },
    {
      "cell_type": "code",
      "source": [
        "# 4. Top 5 Eating Habits Contributing to Obesity\n",
        "numerical_data = data.select_dtypes(include=['number'])\n",
        "correlation_matrix = numerical_data.corr()\n",
        "top_eating_habits = correlation_matrix['Weight'].sort_values(ascending=False).head(5)\n",
        "print(\"\\nTop 5 Eating Habits Contributing to Obesity:\\n\", top_eating_habits)"
      ],
      "metadata": {
        "colab": {
          "base_uri": "https://localhost:8080/"
        },
        "id": "JG7-4BJj_za7",
        "outputId": "d416c5e4-9af2-4690-9476-d67b1ed80c69"
      },
      "execution_count": 34,
      "outputs": [
        {
          "output_type": "stream",
          "name": "stdout",
          "text": [
            "\n",
            "Top 5 Eating Habits Contributing to Obesity:\n",
            " Weight    1.000000\n",
            "Height    0.463136\n",
            "FCVC      0.216125\n",
            "Age       0.202560\n",
            "CH2O      0.200575\n",
            "Name: Weight, dtype: float64\n"
          ]
        }
      ]
    },
    {
      "cell_type": "code",
      "source": [
        "# 5. Identify the highest usage of tech gadgets among obese patients\n",
        "\n",
        "data['FAVC_Numeric'] = data['FAVC'].map({'yes': 1, 'no': 0})\n",
        "\n",
        "gadget_use = data.groupby('NObeyesdad')['FAVC_Numeric'].mean()\n",
        "print(\"\\nAverage Technology Usage by Obesity Level:\\n\", gadget_use)"
      ],
      "metadata": {
        "colab": {
          "base_uri": "https://localhost:8080/"
        },
        "id": "6j9rKALYAEv2",
        "outputId": "5d8c9ee6-d69c-4f45-8aea-ea9a6bd0c264"
      },
      "execution_count": 38,
      "outputs": [
        {
          "output_type": "stream",
          "name": "stdout",
          "text": [
            "\n",
            "Average Technology Usage by Obesity Level:\n",
            " NObeyesdad\n",
            "Insufficient_Weight    0.812500\n",
            "Normal_Weight          0.724739\n",
            "Obesity_Type_I         0.968661\n",
            "Obesity_Type_II        0.976431\n",
            "Obesity_Type_III       0.996914\n",
            "Overweight_Level_I     0.924138\n",
            "Overweight_Level_II    0.744828\n",
            "Name: FAVC_Numeric, dtype: float64\n"
          ]
        }
      ]
    },
    {
      "cell_type": "code",
      "source": [
        "# 6. Apply Classification Model\n",
        "y_pred = clf.predict(X_test)\n",
        "accuracy = accuracy_score(y_test, y_pred)\n",
        "print(\"\\nClassification Model Accuracy:\\n\", accuracy)\n",
        "print(\"\\nClassification Report:\\n\", classification_report(y_test, y_pred))"
      ],
      "metadata": {
        "colab": {
          "base_uri": "https://localhost:8080/"
        },
        "id": "r3olL55aA9IO",
        "outputId": "1c8711be-d9f4-4e36-caf5-b7dcc1e58f42"
      },
      "execution_count": 39,
      "outputs": [
        {
          "output_type": "stream",
          "name": "stdout",
          "text": [
            "\n",
            "Classification Model Accuracy:\n",
            " 0.9258675078864353\n",
            "\n",
            "Classification Report:\n",
            "                      precision    recall  f1-score   support\n",
            "\n",
            "Insufficient_Weight       0.95      0.93      0.94        86\n",
            "      Normal_Weight       0.78      0.89      0.83        93\n",
            "     Obesity_Type_I       0.97      0.93      0.95       102\n",
            "    Obesity_Type_II       0.97      0.99      0.98        88\n",
            "   Obesity_Type_III       1.00      0.99      0.99        98\n",
            " Overweight_Level_I       0.89      0.84      0.87        88\n",
            "Overweight_Level_II       0.95      0.90      0.92        79\n",
            "\n",
            "           accuracy                           0.93       634\n",
            "          macro avg       0.93      0.92      0.93       634\n",
            "       weighted avg       0.93      0.93      0.93       634\n",
            "\n"
          ]
        }
      ]
    },
    {
      "cell_type": "code",
      "source": [
        "# Visualization\n",
        "sns.barplot(x='Feature', y='Importance', data=top_features)\n",
        "plt.title('Top 5 Features Contributing to Obesity')\n",
        "plt.xticks(rotation=45)\n",
        "plt.show()"
      ],
      "metadata": {
        "colab": {
          "base_uri": "https://localhost:8080/",
          "height": 532
        },
        "id": "FWHDzeXUBRwc",
        "outputId": "e152fa3a-3d71-4776-f81f-16b046b1d994"
      },
      "execution_count": 40,
      "outputs": [
        {
          "output_type": "display_data",
          "data": {
            "text/plain": [
              "<Figure size 640x480 with 1 Axes>"
            ],
            "image/png": "[encoded data removed]"
          },
          "metadata": {}
        }
      ]
    }
  ]
}